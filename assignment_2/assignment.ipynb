{
 "cells": [
  {
   "cell_type": "markdown",
   "id": "945d578d",
   "metadata": {},
   "source": [
    "# Assignment 02\n",
    "# Student Name: Rishik Adhikari\n",
    "# Student Number: 1008214905"
   ]
  },
  {
   "cell_type": "code",
   "execution_count": 47,
   "id": "c5610b9a",
   "metadata": {},
   "outputs": [],
   "source": [
    "#Base Imports\n",
    "\n",
    "import numpy as np"
   ]
  },
  {
   "cell_type": "markdown",
   "id": "f0f593aa",
   "metadata": {},
   "source": [
    "## Part 01\n",
    "\n",
    "## Write a python function for the function f (x) = x^3 − x^2 − 1. Also, write a function for it’s derivative (you will have to work out df /dx yourself), you can call these functions ‘f’ and ‘df’."
   ]
  },
  {
   "cell_type": "code",
   "execution_count": 48,
   "id": "b6e9c0b3",
   "metadata": {},
   "outputs": [],
   "source": [
    "def f(x):\n",
    "    \"\"\"Given Function f. \n",
    "    \n",
    "    Input Parameter: x -> a real number\n",
    "    Returns: x^3 - x^2 - 1\n",
    "    \n",
    "    \"\"\"\n",
    "    return (x**3)-(x**2)-1\n",
    "\n",
    "def df(x):\n",
    "    \"\"\"\n",
    "    This is the derivative of the previously written function f.\n",
    "    \n",
    "    Input Parameter: x -> A Real Number\n",
    "    Returns: d(f)/dx = 3x^2 - 2x\n",
    "    \"\"\"\n",
    "    return (3*x**2)-(2*x)"
   ]
  },
  {
   "cell_type": "markdown",
   "id": "af9aa62d",
   "metadata": {},
   "source": [
    "## Part 02\n",
    "\n",
    "## Write a Newton Iterations Method to find root of a function with some given parameters."
   ]
  },
  {
   "cell_type": "code",
   "execution_count": 49,
   "id": "bb5fb2ce",
   "metadata": {},
   "outputs": [],
   "source": [
    "def newton(f, df, x0, epsilon=1e-6, max_iter=30):\n",
    "    \"\"\"\n",
    "    This Function performs Newton Iterations on a function f with derivative df/dx to find its root. This method fails if df/dx = 0.\n",
    "    \n",
    "    Input Parameters: f -> function, df -> df/dx, x0 -> Initial x value.\n",
    "    \n",
    "    Returns: The root if it exists, or None if it doesn't.\n",
    "    \n",
    "    \"\"\"\n",
    "    \n",
    "    i = 0 #variable to track iteration\n",
    "    x = x0\n",
    "    \n",
    "    while np.abs(f(x)) >= epsilon and i <= max_iter:\n",
    "        x = x - (f(x) / df(x))\n",
    "        i += 1\n",
    "    if i > max_iter:\n",
    "        print(\"Iteration Failed\")\n",
    "        return None\n",
    "    else:\n",
    "        print(\"Found root in \" + str(i) +\" Iterations.\")\n",
    "        return x"
   ]
  },
  {
   "cell_type": "markdown",
   "id": "01789fe8",
   "metadata": {},
   "source": [
    "## Part 03\n",
    "\n",
    "## Test the functions above"
   ]
  },
  {
   "cell_type": "code",
   "execution_count": 50,
   "id": "3f490e06",
   "metadata": {},
   "outputs": [
    {
     "name": "stdout",
     "output_type": "stream",
     "text": [
      "Found root in 26 Iterations.\n",
      "Returned X_n when x = 10000 is 1.4655712352599874\n",
      "\n",
      "\n",
      "Iteration Failed\n",
      "Returned Root when x = 100000 is None\n",
      "\n",
      "\n",
      "Found root in 11 Iterations.\n",
      "Returned Root when x = 20 is 1.465571231888127\n",
      "\n",
      "\n"
     ]
    }
   ],
   "source": [
    "\"\"\"\n",
    "Testing Above Functions.\n",
    "\"\"\"\n",
    "\n",
    "x1 = 10000\n",
    "\n",
    "result1 = newton(f,df,x1)\n",
    "\n",
    "print(\"Returned X_n when x = \" + str(x1) + \" is \" + str(result1)+\"\\n\\n\")\n",
    "\n",
    "x2 = 100000\n",
    "\n",
    "result2 = newton(f,df,x2)\n",
    "\n",
    "print(\"Returned Root when x = \" + str(x2) + \" is \" + str(result2)+\"\\n\\n\")\n",
    "\n",
    "x3 = 20\n",
    "\n",
    "result3 = newton(f,df,x3)\n",
    "\n",
    "print(\"Returned Root when x = \" + str(x3) + \" is \" + str(result3)+\"\\n\\n\")\n",
    "\n"
   ]
  },
  {
   "cell_type": "code",
   "execution_count": 51,
   "id": "c225aa06",
   "metadata": {},
   "outputs": [
    {
     "name": "stdout",
     "output_type": "stream",
     "text": [
      "Found root in 27 Iterations.\n",
      "Returned Root when x = 10000 is 1.465571231876768\n",
      "\n",
      "\n",
      "Found root in 11 Iterations.\n",
      "Returned Root when x = 20 is 1.465571231888127\n",
      "\n",
      "\n"
     ]
    }
   ],
   "source": [
    "# Testing when epsilon = 1e-8\n",
    "\n",
    "x4 = 10000\n",
    "\n",
    "result4 = newton(f,df,x4,epsilon=1e-8)\n",
    "\n",
    "print(\"Returned Root when x = \" + str(x4) + \" is \" + str(result4)+\"\\n\\n\")\n",
    "\n",
    "x5 = 20\n",
    "\n",
    "result5 = newton(f,df,x5,epsilon=1e-8)\n",
    "\n",
    "print(\"Returned Root when x = \" + str(x5) + \" is \" + str(result5)+\"\\n\\n\")"
   ]
  },
  {
   "cell_type": "markdown",
   "id": "f51d6e26",
   "metadata": {},
   "source": [
    "# When epsilon = 1e-8, the Method works. Iteration for my choice of x = 10000 took 1 more iteration to find the root with updated epsilon, but when x = 20, the root was found in same number of iterations for both choices of epsilon. \n",
    "\n",
    "# Note The difference in iteration varies with different choices of x0. For some x0, the difference in iteration with different epsilon used above is 0, but some it is greater than 0.\n",
    "\n",
    "# One More Observation can be made from above test results. The root returned might be a little different for same x, if epsilon is different. This happens because the Newton Iterations method is an approximation method so a small error is expected."
   ]
  },
  {
   "cell_type": "code",
   "execution_count": null,
   "id": "41760270",
   "metadata": {},
   "outputs": [],
   "source": []
  },
  {
   "cell_type": "code",
   "execution_count": null,
   "id": "dd9ed1c3",
   "metadata": {},
   "outputs": [],
   "source": []
  },
  {
   "cell_type": "markdown",
   "id": "b7048a5a",
   "metadata": {},
   "source": [
    "# Assignment Completed##"
   ]
  },
  {
   "cell_type": "code",
   "execution_count": null,
   "id": "3580b68e",
   "metadata": {},
   "outputs": [],
   "source": []
  }
 ],
 "metadata": {
  "kernelspec": {
   "display_name": "Python 3 (ipykernel)",
   "language": "python",
   "name": "python3"
  },
  "language_info": {
   "codemirror_mode": {
    "name": "ipython",
    "version": 3
   },
   "file_extension": ".py",
   "mimetype": "text/x-python",
   "name": "python",
   "nbconvert_exporter": "python",
   "pygments_lexer": "ipython3",
   "version": "3.10.2"
  }
 },
 "nbformat": 4,
 "nbformat_minor": 5
}
