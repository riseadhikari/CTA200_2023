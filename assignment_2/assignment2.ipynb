{
 "cells": [
  {
   "cell_type": "markdown",
   "id": "945d578d",
   "metadata": {},
   "source": [
    "# Assignment 02\n",
    "# Student Name: Rishik Adhikari\n",
    "# Student Number: 1008214905"
   ]
  },
  {
   "cell_type": "code",
   "execution_count": 69,
   "id": "c5610b9a",
   "metadata": {},
   "outputs": [],
   "source": [
    "#Base Imports\n",
    "\n",
    "import numpy as np"
   ]
  },
  {
   "cell_type": "markdown",
   "id": "f0f593aa",
   "metadata": {},
   "source": [
    "## Part 01"
   ]
  },
  {
   "cell_type": "code",
   "execution_count": 70,
   "id": "b6e9c0b3",
   "metadata": {},
   "outputs": [],
   "source": [
    "def f(x):\n",
    "    \"\"\"\n",
    "    Input Parameter: x -> a real number\n",
    "    Output: x^3 - x^2 - 1\n",
    "    \n",
    "    \"\"\"\n",
    "    return (x**3)-(x**2)-1\n",
    "\n",
    "def df(x):\n",
    "    \"\"\"\n",
    "    This is the derivative of the previously written function f.\n",
    "    \n",
    "    Input Parameter: x -> A Real Number\n",
    "    Output: d(f)/dx = 3x^2 - 2x\n",
    "    \"\"\"\n",
    "    return (3*x**2)-(2*x)"
   ]
  },
  {
   "cell_type": "markdown",
   "id": "af9aa62d",
   "metadata": {},
   "source": [
    "## Part 02"
   ]
  },
  {
   "cell_type": "code",
   "execution_count": 71,
   "id": "bb5fb2ce",
   "metadata": {},
   "outputs": [],
   "source": [
    "def newton(f, df, x0, epsilon=1e-6, max_iter=30):\n",
    "    \"\"\"\n",
    "    This Function performs Newton Iteration of the function with derivative df.\n",
    "    \n",
    "    Input Parameters: f -> function, df -> df/dx, x0 -> Initial x value.\n",
    "    \n",
    "    Output: \n",
    "    \n",
    "    \"\"\"\n",
    "    \n",
    "    i = 0 #variable to track iteration\n",
    "    x = x0\n",
    "    \n",
    "    while np.abs(f(x)) >= epsilon and i <= max_iter:\n",
    "        x = x - (f(x) / df(x))\n",
    "        i += 1\n",
    "    if i > max_iter:\n",
    "        print(\"Iteration Failed\")\n",
    "        return None\n",
    "    else:\n",
    "        print(\"Found root in \" + str(i) +\" Iterations.\")\n",
    "        return x"
   ]
  },
  {
   "cell_type": "markdown",
   "id": "01789fe8",
   "metadata": {},
   "source": [
    "## Part 03"
   ]
  },
  {
   "cell_type": "code",
   "execution_count": 72,
   "id": "3f490e06",
   "metadata": {},
   "outputs": [
    {
     "name": "stdout",
     "output_type": "stream",
     "text": [
      "Found root in 26 Iterations.\n",
      "Returned X_n when x = 10000 is 1.4655712352599874\n",
      "\n",
      "\n",
      "Iteration Failed\n",
      "Returned X_n when x = 100000 is None\n",
      "\n",
      "\n"
     ]
    }
   ],
   "source": [
    "\"\"\"\n",
    "Testing Above Functions.\n",
    "\"\"\"\n",
    "\n",
    "x1 = 10000\n",
    "\n",
    "result1 = newton(f,df,x1)\n",
    "\n",
    "print(\"Returned X_n when x = \" + str(x1) + \" is \" + str(result1)+\"\\n\\n\")\n",
    "\n",
    "x2 = 100000\n",
    "\n",
    "result2 = newton(f,df,x2)\n",
    "\n",
    "print(\"Returned X_n when x = \" + str(x2) + \" is \" + str(result2)+\"\\n\\n\")\n",
    "\n"
   ]
  },
  {
   "cell_type": "code",
   "execution_count": 73,
   "id": "c225aa06",
   "metadata": {},
   "outputs": [
    {
     "name": "stdout",
     "output_type": "stream",
     "text": [
      "Found root in 27 Iterations.\n",
      "Returned X_n when x = 10000 is 1.465571231876768\n",
      "\n",
      "\n"
     ]
    }
   ],
   "source": [
    "# Testing when epsilon = 1e-8\n",
    "\n",
    "x3 = 10000\n",
    "\n",
    "result3 = newton(f,df,x3,epsilon=1e-8)\n",
    "\n",
    "print(\"Returned X_n when x = \" + str(x3) + \" is \" + str(result3)+\"\\n\\n\")"
   ]
  },
  {
   "cell_type": "markdown",
   "id": "f51d6e26",
   "metadata": {},
   "source": [
    "# When epsilon = 1e-8, the iteration for my choice of x = 10000 took 1 more iteration to find the root. \n",
    "\n",
    "# Note The difference in iteration varies with different choices of x0."
   ]
  }
 ],
 "metadata": {
  "kernelspec": {
   "display_name": "Python 3 (ipykernel)",
   "language": "python",
   "name": "python3"
  },
  "language_info": {
   "codemirror_mode": {
    "name": "ipython",
    "version": 3
   },
   "file_extension": ".py",
   "mimetype": "text/x-python",
   "name": "python",
   "nbconvert_exporter": "python",
   "pygments_lexer": "ipython3",
   "version": "3.10.2"
  }
 },
 "nbformat": 4,
 "nbformat_minor": 5
}
