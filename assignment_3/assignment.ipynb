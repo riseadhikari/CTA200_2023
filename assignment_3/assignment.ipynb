{
 "cells": [
  {
   "cell_type": "markdown",
   "id": "f0c9c984",
   "metadata": {},
   "source": [
    "# Assignment 3 \n",
    "# Student: Rishik Adhikari\n",
    "# Student #: 1008214905"
   ]
  },
  {
   "cell_type": "code",
   "execution_count": null,
   "id": "7311d300",
   "metadata": {},
   "outputs": [],
   "source": [
    "#base Imports\n",
    "import numpy as np\n",
    "import matplotlib.pyplot as plt\n",
    "from scipy.integrate import odeint\n",
    "import q1\n",
    "%matplotlib inline"
   ]
  },
  {
   "cell_type": "markdown",
   "id": "c82a124c",
   "metadata": {},
   "source": [
    "# Question 1 \n",
    "## Note To Grader or Reader: I have used convergent and bounded interchangeably. Please do not get confused. Thank you."
   ]
  },
  {
   "cell_type": "code",
   "execution_count": null,
   "id": "d5704e70",
   "metadata": {},
   "outputs": [],
   "source": [
    "#x,y values for complex number: c = x + yi\n",
    "x = np.linspace(-2.,2.,1000)\n",
    "y = np.linspace(-2.,2.,1000)\n",
    "\n",
    "bound = np.sqrt(2**2 + 2**2) #boundary of the complex number z. \n",
    "\n",
    "#Arrays to store values of Bounded and divergent points, separating both real and imaginary for both cases.\n",
    "bound_points_real = list()\n",
    "bound_points_imag = list()\n",
    "div_points_real = list()\n",
    "div_points_imag = list()\n",
    "\n",
    "\n",
    "i_list = [] #a list to store iteration of divergent points. \n",
    "\n",
    "#Below: q1.iterate is the main function and returns expected arrays of values.\n",
    "cr,ci,dr,di = q1.iterate(10,bound_points_real,bound_points_imag,div_points_real,div_points_imag,i_list,x,y,bound)\n",
    "#cr -> convergent real, ci->convergent imaginary, dr->divergent real, di->divergent imaginary\n"
   ]
  },
  {
   "cell_type": "code",
   "execution_count": null,
   "id": "0f9b3e29",
   "metadata": {
    "scrolled": true
   },
   "outputs": [],
   "source": [
    "\n",
    "#Plots of Bounded and Divergent Points in a complex plane.\n",
    "plt.scatter(cr,ci,color=\"green\", label=\"Bounded Points\")\n",
    "plt.scatter(dr,di,color=\"black\",label=\"Diverging Points\")\n",
    "plt.title(\"Bounded and Divergent Complex Points in Complex Plane.\")\n",
    "plt.xlabel(\"Real\")\n",
    "plt.ylabel(\"Imaginary\")\n",
    "plt.legend(loc='lower right')\n",
    "plt.savefig(\"q1_1.png\")\n",
    "plt.show()"
   ]
  },
  {
   "cell_type": "code",
   "execution_count": null,
   "id": "7062d67c",
   "metadata": {},
   "outputs": [],
   "source": [
    "#Plot of Bounded and Divergent Points in a complex plane with gradient like color effect for divergent points using iteration.\n",
    "plt.scatter(cr,ci,c=\"blue\",label=\"Bounded Points\")\n",
    "plt.scatter(dr,di,c=i_list,label=\"Diverging Points\")\n",
    "plt.title(\"Bounded and Divergent Complex Points in Complex Plane.\")\n",
    "plt.xlabel(\"Real\")\n",
    "plt.ylabel(\"Imaginary\")\n",
    "plt.colorbar(label=\"Color Bar.\")\n",
    "plt.legend(loc='lower left')\n",
    "plt.savefig(\"q1_2.png\")\n",
    "plt.show()"
   ]
  },
  {
   "cell_type": "markdown",
   "id": "05383ebd",
   "metadata": {},
   "source": [
    "# End of Question 1."
   ]
  },
  {
   "cell_type": "code",
   "execution_count": null,
   "id": "5d3b8b2b",
   "metadata": {},
   "outputs": [],
   "source": []
  },
  {
   "cell_type": "markdown",
   "id": "39a2da04",
   "metadata": {},
   "source": [
    "#  Question 2"
   ]
  },
  {
   "cell_type": "code",
   "execution_count": null,
   "id": "1e805f1c",
   "metadata": {},
   "outputs": [],
   "source": [
    "\n",
    "def diff(init_value,t,sigma,rho,beta):\n",
    "\t\"\"\" This function prepares equations for the derivatives of x,y,z and returns them. \n",
    "\n",
    "\t\tInputs:\n",
    "\t\tinit_value -> list of initial values of x,y,z.\n",
    "\t\tt -> array of time\n",
    "\t\tsigma, rho, beta, -> given constants\n",
    "\n",
    "\t\tOutput: Derivative of X, Y, Z with respect to time. \n",
    "\n",
    "\n",
    "\t\t\"\"\"\n",
    "\tx,y,z = init_value\n",
    "\n",
    "\tdxdt = sigma * (y - x)\n",
    "\tdydt = x * (rho - z) - y\n",
    "\tdzdt = x * y - beta * z\n",
    "\n",
    "\treturn dxdt, dydt, dzdt\n",
    "\n",
    "\n",
    "#Initial Integration using ODEINT\n",
    "\n",
    "#Below Values are given to us. \n",
    "w = [0.,1.,0.] \n",
    "sigma = 10.\n",
    "r = 28.\n",
    "b = 8./3.\n",
    "\n",
    "#time array. \n",
    "t = np.arange(0.,60.,0.01)\n",
    "\n",
    "#Solving the differential equations given by diff function above using odeint from scipy library with above given and calculated values. \n",
    "solutions = odeint(diff, w, t, args=(sigma,r,b))"
   ]
  },
  {
   "cell_type": "code",
   "execution_count": null,
   "id": "9318e61e",
   "metadata": {},
   "outputs": [],
   "source": [
    "del_t = 0.01 #Given in the assignment \n",
    "\n",
    "# N = t/del_t #Given for plotting purpose.\n",
    "\n",
    "N = np.arange(0,6000,1)\n",
    "Y_sol = solutions[:,1]*10 #Y solution returned by solving the differential equation. Separating Y for easy plotting.\n",
    "Y_sol = Y_sol.astype(int) #Followed the paper. "
   ]
  },
  {
   "cell_type": "code",
   "execution_count": null,
   "id": "aeb4575a",
   "metadata": {},
   "outputs": [],
   "source": [
    "Y_sol"
   ]
  },
  {
   "cell_type": "code",
   "execution_count": null,
   "id": "f14f1274",
   "metadata": {},
   "outputs": [],
   "source": [
    "#Plot of Y vs N. Similar to Figure 1 of the research paper referred in the assignment. \n",
    "fig, axs = plt.subplots(3, 1)\n",
    "fig.suptitle('Y-Solution vs Number of Iterations from N = 0 to N = 3000.')\n",
    "axs[0].set_xlim(0,1000)\n",
    "axs[0].set_xlabel(\"N -> Number of Iterations\")\n",
    "axs[0].set_ylabel(\"Y Solution\")\n",
    "axs[0].plot(N[0:1000], Y_sol[0:1000])\n",
    "axs[1].set_xlim(1000,2000)\n",
    "axs[1].set_xlabel(\"N -> Number of Iterations\")\n",
    "axs[1].set_ylabel(\"Y Solution\")\n",
    "axs[1].plot(N[1000:2000], Y_sol[1000:2000])\n",
    "axs[2].set_xlim(2000,3000)\n",
    "axs[2].set_xlabel(\"N -> Number of Iterations\")\n",
    "axs[2].set_ylabel(\"Y Solution\")\n",
    "axs[2].plot(N[2000:3000], Y_sol[2000:3000])\n",
    "plt.savefig(\"q2_1.png\")\n",
    "plt.show()\n",
    "fig.tight_layout()"
   ]
  },
  {
   "cell_type": "code",
   "execution_count": null,
   "id": "36193608",
   "metadata": {},
   "outputs": [],
   "source": [
    "#Plot of Y vs Z and Y vs X. Similar to Figure 2 of the research paper referred in the assignment. \n",
    "\n",
    "fig, axs = plt.subplots(2)\n",
    "fig.suptitle('Projection of Solution in XY Plane and YZ Plane')\n",
    "axs[0].plot(Y_sol[1400:1900], solutions[1400:1900,2])\n",
    "axs[0].set_xlabel(\"Y Solution\")\n",
    "axs[0].set_ylabel(\"Z Solution\")\n",
    "axs[1].plot(Y_sol[1400:1900], solutions[1400:1900,0])\n",
    "axs[1].set_xlabel(\"Y Solution\")\n",
    "axs[1].set_ylabel(\"X Solution\")\n",
    "plt.savefig(\"q2_2.png\")\n",
    "\n",
    "plt.show()\n"
   ]
  },
  {
   "cell_type": "code",
   "execution_count": null,
   "id": "db442ace",
   "metadata": {},
   "outputs": [],
   "source": [
    "#Solving the Differential Equations again by changing the initial values.\n",
    "\n",
    "w0 = np.array(w)\n",
    "\n",
    "w1 = w0 + np.array([0,1.e-8,0])\n",
    "\n",
    "w1 = list(w1)\n",
    "\n",
    "solution2 = odeint(diff, w1, t, args=(sigma,r,b))"
   ]
  },
  {
   "cell_type": "code",
   "execution_count": null,
   "id": "04d7297d",
   "metadata": {},
   "outputs": [],
   "source": [
    "soln_diff = (solution2 - solutions) #difference in solution2 and solutions.\n",
    "\n",
    "distance = [] #list to keep the distances between W' and W.\n",
    "\n",
    "for d in soln_diff:\n",
    "\tx,y,z = d\n",
    "\treal_distance = np.sqrt(x**2 + y**2 + z**2) #Distance formula.\n",
    "\tdistance.append(real_distance)\n",
    "\n"
   ]
  },
  {
   "cell_type": "code",
   "execution_count": null,
   "id": "25aa6bd1",
   "metadata": {},
   "outputs": [],
   "source": [
    "#Plot of Distance vs Time. Semi-log Plot. Time -> linear, Distance -> log scale.\n",
    "plt.plot(t,distance,c=\"orange\")\n",
    "plt.yscale('log')\n",
    "plt.xlabel(\"Time Linear\")\n",
    "plt.ylabel(\"Distance in LogScale\")\n",
    "plt.title(\"Distance vs Time - Semilog Plot.\")\n",
    "plt.savefig(\"q2_3.png\")\n",
    "plt.show()"
   ]
  },
  {
   "cell_type": "code",
   "execution_count": null,
   "id": "4c0457e3",
   "metadata": {},
   "outputs": [],
   "source": []
  },
  {
   "cell_type": "markdown",
   "id": "15c5f9dd",
   "metadata": {},
   "source": [
    "# End of this Document."
   ]
  },
  {
   "cell_type": "code",
   "execution_count": null,
   "id": "4349f2c6",
   "metadata": {},
   "outputs": [],
   "source": []
  }
 ],
 "metadata": {
  "kernelspec": {
   "display_name": "Python 3 (ipykernel)",
   "language": "python",
   "name": "python3"
  },
  "language_info": {
   "codemirror_mode": {
    "name": "ipython",
    "version": 3
   },
   "file_extension": ".py",
   "mimetype": "text/x-python",
   "name": "python",
   "nbconvert_exporter": "python",
   "pygments_lexer": "ipython3",
   "version": "3.10.2"
  }
 },
 "nbformat": 4,
 "nbformat_minor": 5
}
