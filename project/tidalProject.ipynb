{
 "cells": [
  {
   "cell_type": "code",
   "execution_count": 1,
   "id": "ed15b4e7",
   "metadata": {},
   "outputs": [],
   "source": [
    "#Base Imports\n",
    "import numpy as np\n",
    "import matplotlib.pyplot as plt\n",
    "from scipy.integrate import odeint\n",
    "%matplotlib inline"
   ]
  },
  {
   "cell_type": "code",
   "execution_count": 2,
   "id": "b52d73ac",
   "metadata": {},
   "outputs": [],
   "source": [
    "#Constants \n",
    "\n",
    "G = (6.67)*1e-8 #Gravitational Constant in CGS system of units. \n",
    "rEarth = (6371) * 1e5 #cm. Radius of Earth.\n",
    "mEarth = (5.97) * 1e27 #grams\n",
    "mMoon = (7.349) * 1e25 # grams\n",
    "mSun = (1.98) * 1e33 #grams\n",
    "aEarth = (1.49) * 1e13 #cm. Semi-major axis of Earth's orbit\n",
    "aMoon = 3.84000 * 1e10 #cm. Semi-major axis of Moon.\n",
    "IEarth = (0.3299) * mEarth * (rEarth**2) #moment of Inertia of Earth\n",
    "lod = 86164 #seconds. lod-> length of the sidereal day.\n",
    "angEarth = (2*np.pi) / lod #angular velocity of Earth\n",
    "k2 = 0.298 #Dimensionless Love number of Earth.\n",
    "QMoon = 11.5 #Dimensionless tidal quality factor."
   ]
  },
  {
   "cell_type": "markdown",
   "id": "71099a22",
   "metadata": {},
   "source": [
    "# Question 1."
   ]
  },
  {
   "cell_type": "code",
   "execution_count": 3,
   "id": "aed10132",
   "metadata": {},
   "outputs": [],
   "source": [
    "LEarth = (mEarth) * np.sqrt(G*(mSun + mEarth)*aEarth) #Orbital Angular Momentum of Earth in CGS Unit.\n",
    "SEarth = IEarth * angEarth #Spin Angular Momentum of Earth in CGS Unit.\n",
    "LMoon = (mMoon) * np.sqrt(G*(mMoon + mEarth)*aMoon) #Orbital Angular Momentum of Earth in CGS Unit."
   ]
  },
  {
   "cell_type": "code",
   "execution_count": 4,
   "id": "31832322",
   "metadata": {},
   "outputs": [
    {
     "name": "stdout",
     "output_type": "stream",
     "text": [
      "2.648278362340409e+47 5.829427067103105e+40 2.8913500926978638e+41\n"
     ]
    }
   ],
   "source": [
    "print(LEarth, SEarth, LMoon)"
   ]
  },
  {
   "cell_type": "markdown",
   "id": "69b30cd1",
   "metadata": {},
   "source": [
    "# Question 2"
   ]
  },
  {
   "cell_type": "code",
   "execution_count": 5,
   "id": "277c11bd",
   "metadata": {},
   "outputs": [],
   "source": [
    "TMoon = (3/2) * ((G*(mMoon**2)) / aMoon) * ((rEarth/aMoon)**5) * (k2/QMoon) #Lunar Tidal Torque in CGS unit."
   ]
  },
  {
   "cell_type": "code",
   "execution_count": 6,
   "id": "fe2a73f7",
   "metadata": {},
   "outputs": [
    {
     "data": {
      "text/plain": [
       "4.5839797522906684e+23"
      ]
     },
     "execution_count": 6,
     "metadata": {},
     "output_type": "execute_result"
    }
   ],
   "source": [
    "TMoon #actual value 4.46*1e23"
   ]
  },
  {
   "cell_type": "code",
   "execution_count": 7,
   "id": "9fe5dcff",
   "metadata": {},
   "outputs": [
    {
     "data": {
      "text/plain": [
       "9.753148409129082e+22"
      ]
     },
     "execution_count": 7,
     "metadata": {},
     "output_type": "execute_result"
    }
   ],
   "source": [
    "TSun = (1/4.7)*TMoon #Solar Tidal Torque in CGS Unit. This relation is given in the Project Reading.\n",
    "TSun"
   ]
  },
  {
   "cell_type": "markdown",
   "id": "c0e1c168",
   "metadata": {},
   "source": [
    "# Question 3"
   ]
  },
  {
   "cell_type": "code",
   "execution_count": 8,
   "id": "50dad437",
   "metadata": {},
   "outputs": [],
   "source": [
    "#Timescales Associated with Equations 1 - 3 from the Project Reading.\n",
    "\n",
    "tLEarth = LEarth / TSun\n",
    "tSEarth = SEarth / (-1*(TSun + TMoon))\n",
    "tLMoon = LMoon / TMoon"
   ]
  },
  {
   "cell_type": "code",
   "execution_count": 9,
   "id": "5be709cb",
   "metadata": {},
   "outputs": [
    {
     "name": "stdout",
     "output_type": "stream",
     "text": [
      "Time Scale Associated with Orbital Angular Momentum of Earth:  2.715306126031655e+24\n",
      "Time Scale Associated with Spin Angular Momentum of Earth:  -1.0485911421621322e+17\n",
      "Time Scale Associated with Orbital Angular Momentum of Moon:  6.307510610737367e+17\n"
     ]
    }
   ],
   "source": [
    "print(\"Time Scale Associated with Orbital Angular Momentum of Earth: \", tLEarth)\n",
    "print(\"Time Scale Associated with Spin Angular Momentum of Earth: \", tSEarth)\n",
    "print(\"Time Scale Associated with Orbital Angular Momentum of Moon: \", tLMoon)"
   ]
  },
  {
   "cell_type": "markdown",
   "id": "1f3e54aa",
   "metadata": {},
   "source": [
    "# Question 4"
   ]
  },
  {
   "cell_type": "code",
   "execution_count": 10,
   "id": "e5b7dbd2",
   "metadata": {},
   "outputs": [],
   "source": [
    "def T_Moon(lM):\n",
    "    \"\"\"\n",
    "    This function calculates the lunar tidal torque. It is defined as a helper function for the next function. \n",
    "    \"\"\"\n",
    "    a_Moon = ((lM/mMoon)**2)/(G*(mEarth + mMoon))\n",
    "    return (3/2) * ((G*(mMoon**2)) / a_Moon) * ((rEarth/a_Moon)**5) * (k2/QMoon)\n",
    "    \n",
    "aMoon_list = list()\n",
    "def diff(y,t):\n",
    "    \n",
    "    \"\"\"\n",
    "    This Function returns the Derivatives of Orbital Angular Momentum of Earth and Moon and Spin Angular Momentum of Earth with respect to time.\n",
    "    \n",
    "    Input Parameters: y -> An Array Containing Orbital Angular Momentum of Eartn and Moon and Spin Angular Momentum of Earth.\n",
    "    \n",
    "    lE-> Orbital Angular Momentum of Earth\n",
    "    sE -> spin Angular Momentum of Earth\n",
    "    lM -> Orbital Angular Momentum of Moon.\n",
    "    \n",
    "    \"\"\"\n",
    "    lE, sE, lM = y\n",
    "    dlEdt = (1/4.7)*T_Moon(lM)\n",
    "    dsEdt = T_Moon(lM)*(-(1/4.7) - 1)\n",
    "    dlMdt = T_Moon(lM)\n",
    "    res = [dlEdt, dsEdt, dlMdt]\n",
    "    return res"
   ]
  },
  {
   "cell_type": "code",
   "execution_count": null,
   "id": "193fa0d0",
   "metadata": {},
   "outputs": [],
   "source": []
  },
  {
   "cell_type": "markdown",
   "id": "ac6911d6",
   "metadata": {},
   "source": [
    "# Question 5"
   ]
  },
  {
   "cell_type": "code",
   "execution_count": 11,
   "id": "728a44c6",
   "metadata": {},
   "outputs": [],
   "source": [
    "#I am choosing time to be from 0 to -5 billion years. \n",
    "\"\"\"\n",
    "|t| = 1 refers to 1 seconds. 5 billion years approx = 1.5e17 seconds.\n",
    "\n",
    "I am choosing total time points = 1e8. So, Delta t = 1500000015 seconds, approximately 50 years. \n",
    "\n",
    "So Each Point of time array, t is 50 years approximately to use for plotting.\n",
    "\n",
    "\"\"\"\n",
    "\n",
    "y0 = [LEarth,SEarth,LMoon]\n",
    "t = np.linspace(0,-1.5e17,100000000)"
   ]
  },
  {
   "cell_type": "code",
   "execution_count": 12,
   "id": "5de5629c",
   "metadata": {},
   "outputs": [
    {
     "data": {
      "text/plain": [
       "0.0"
      ]
     },
     "execution_count": 12,
     "metadata": {},
     "output_type": "execute_result"
    }
   ],
   "source": [
    "t[0]"
   ]
  },
  {
   "cell_type": "code",
   "execution_count": 13,
   "id": "5aa80c20",
   "metadata": {},
   "outputs": [
    {
     "name": "stderr",
     "output_type": "stream",
     "text": [
      "C:\\Users\\Sarina-Rise\\Documents\\CTA200-FinalProject\\env\\lib\\site-packages\\scipy\\integrate\\_odepack_py.py:248: ODEintWarning: Excess work done on this call (perhaps wrong Dfun type). Run with full_output = 1 to get quantitative information.\n",
      "  warnings.warn(warning_msg, ODEintWarning)\n"
     ]
    }
   ],
   "source": [
    "solutions = odeint(diff,y0,t)"
   ]
  },
  {
   "cell_type": "code",
   "execution_count": 14,
   "id": "57a43cf4",
   "metadata": {
    "scrolled": false
   },
   "outputs": [
    {
     "data": {
      "text/plain": [
       "array([[2.64827836e+47, 5.82942707e+40, 2.89135009e+41],\n",
       "       [2.64827836e+47, 5.82942715e+40, 2.89135009e+41],\n",
       "       [2.64827836e+47, 5.82942723e+40, 2.89135008e+41],\n",
       "       ...,\n",
       "       [0.00000000e+00, 0.00000000e+00, 0.00000000e+00],\n",
       "       [0.00000000e+00, 0.00000000e+00, 0.00000000e+00],\n",
       "       [0.00000000e+00, 0.00000000e+00, 0.00000000e+00]])"
      ]
     },
     "execution_count": 14,
     "metadata": {},
     "output_type": "execute_result"
    }
   ],
   "source": [
    "solutions"
   ]
  },
  {
   "cell_type": "code",
   "execution_count": 15,
   "id": "ecbe80b6",
   "metadata": {},
   "outputs": [
    {
     "data": {
      "text/plain": [
       "0.0"
      ]
     },
     "execution_count": 15,
     "metadata": {},
     "output_type": "execute_result"
    }
   ],
   "source": [
    "solutions[32346197,2]"
   ]
  },
  {
   "cell_type": "code",
   "execution_count": 16,
   "id": "341c1810",
   "metadata": {
    "scrolled": true
   },
   "outputs": [
    {
     "data": {
      "text/plain": [
       "2.5354612055130117e+39"
      ]
     },
     "execution_count": 16,
     "metadata": {},
     "output_type": "execute_result"
    }
   ],
   "source": [
    "solutions[32346196,2]"
   ]
  },
  {
   "cell_type": "markdown",
   "id": "87ca8693",
   "metadata": {},
   "source": [
    "## Above 2 lines compares Orbital Angular Momentum of the Moon. \n",
    "\n",
    "## From there we can see that our Model Predicts, Moon was Formed:\n",
    "## 32346196 * 50 = 1.6 billion years ago. Relative to the Current Year = 0.\n"
   ]
  },
  {
   "cell_type": "code",
   "execution_count": 17,
   "id": "fcdf66f7",
   "metadata": {},
   "outputs": [
    {
     "data": {
      "text/plain": [
       "1617309800"
      ]
     },
     "execution_count": 17,
     "metadata": {},
     "output_type": "execute_result"
    }
   ],
   "source": [
    "32346196*50"
   ]
  },
  {
   "cell_type": "markdown",
   "id": "acc4f58f",
   "metadata": {},
   "source": [
    "# Question 6"
   ]
  },
  {
   "cell_type": "code",
   "execution_count": 18,
   "id": "6dde57dd",
   "metadata": {},
   "outputs": [
    {
     "data": {
      "text/plain": [
       "array([3.84000000e+10, 3.83999998e+10, 3.83999996e+10, ...,\n",
       "       0.00000000e+00, 0.00000000e+00, 0.00000000e+00])"
      ]
     },
     "execution_count": 18,
     "metadata": {},
     "output_type": "execute_result"
    }
   ],
   "source": [
    "aM_list = ((solutions[:,2]/mMoon)**2)/(G*(mEarth + mMoon))\n",
    "aM_list"
   ]
  },
  {
   "cell_type": "code",
   "execution_count": 19,
   "id": "b0ec7506",
   "metadata": {},
   "outputs": [
    {
     "name": "stdout",
     "output_type": "stream",
     "text": [
      "2952866.43520085 0.0 32346196\n"
     ]
    }
   ],
   "source": [
    "i = np.where(aM_list == 0)\n",
    "j = i[0][0] - 1\n",
    "print(aM_list[j], aM_list[j+1], j)"
   ]
  },
  {
   "cell_type": "code",
   "execution_count": null,
   "id": "609c47e5",
   "metadata": {},
   "outputs": [],
   "source": []
  },
  {
   "cell_type": "code",
   "execution_count": 20,
   "id": "5fa565eb",
   "metadata": {},
   "outputs": [],
   "source": [
    "#new time array for easy plotting.\n",
    "t2 = np.arange(0,1e8)"
   ]
  },
  {
   "cell_type": "code",
   "execution_count": null,
   "id": "b537f4e9",
   "metadata": {},
   "outputs": [],
   "source": []
  },
  {
   "cell_type": "code",
   "execution_count": 32,
   "id": "26616237",
   "metadata": {},
   "outputs": [
    {
     "data": {
      "image/png": "[encoded data removed]",
      "text/plain": [
       "<Figure size 640x480 with 1 Axes>"
      ]
     },
     "metadata": {},
     "output_type": "display_data"
    }
   ],
   "source": [
    "plt.title(\"Semi-Major Axis of Moon vs Time Plot.\")\n",
    "plt.xlabel(\"Age in Years. [1 Unit = 50 yrs]\")\n",
    "plt.ylabel(\"Semi-Major Axis in CentiMeter(s)\")\n",
    "plt.plot(t2,aM_list,color=\"orange\")\n",
    "plt.savefig(\"Q6.pdf\")"
   ]
  },
  {
   "cell_type": "markdown",
   "id": "07a4c0eb",
   "metadata": {},
   "source": [
    "# Question 7"
   ]
  },
  {
   "cell_type": "markdown",
   "id": "528c074b",
   "metadata": {},
   "source": [
    "## Data From: https://spacemath.gsfc.nasa.gov/Grade35/6Page58.pdf"
   ]
  },
  {
   "cell_type": "code",
   "execution_count": 22,
   "id": "715731fd",
   "metadata": {},
   "outputs": [],
   "source": [
    "time = np.array([0,70,220,290,340,380,395,410,420,430,440,450,510,600,900])\n",
    "hours_in_day = np.array([24,23.7,23.5,22.9,22,22,21.6,21.4,21.9,21.2,20.8,21.2,20.7,21,18])"
   ]
  },
  {
   "cell_type": "code",
   "execution_count": 33,
   "id": "44a38e55",
   "metadata": {},
   "outputs": [
    {
     "data": {
      "image/png": "[encoded data removed]",
      "text/plain": [
       "<Figure size 640x480 with 1 Axes>"
      ]
     },
     "metadata": {},
     "output_type": "display_data"
    }
   ],
   "source": [
    "plt.title(\"Hours in a Day during a Particular Year.\")\n",
    "plt.xlabel(\"Age in Million Years.\")\n",
    "plt.ylabel(\"Hours in a Day at the Corresponding Time.\")\n",
    "plt.plot(time,hours_in_day,c=\"green\")\n",
    "plt.savefig(\"Q71.pdf\")"
   ]
  },
  {
   "cell_type": "markdown",
   "id": "297f70aa",
   "metadata": {},
   "source": [
    "# Question 7, 2nd Approach Using Spin Angular Momentum of Earth."
   ]
  },
  {
   "cell_type": "code",
   "execution_count": 24,
   "id": "85cd5d13",
   "metadata": {},
   "outputs": [
    {
     "name": "stderr",
     "output_type": "stream",
     "text": [
      "C:\\Users\\Sarina-Rise\\AppData\\Local\\Temp\\ipykernel_20680\\1116466722.py:1: RuntimeWarning: divide by zero encountered in divide\n",
      "  length_of_day = 1 / (solutions[:,1]/(IEarth*2*np.pi))\n"
     ]
    }
   ],
   "source": [
    "length_of_day = 1 / (solutions[:,1]/(IEarth*2*np.pi))"
   ]
  },
  {
   "cell_type": "code",
   "execution_count": 25,
   "id": "2d55e132",
   "metadata": {},
   "outputs": [
    {
     "data": {
      "text/plain": [
       "12375.482957295522"
      ]
     },
     "execution_count": 25,
     "metadata": {},
     "output_type": "execute_result"
    }
   ],
   "source": [
    "length_of_day[32346196]"
   ]
  },
  {
   "cell_type": "code",
   "execution_count": 31,
   "id": "f883ef02",
   "metadata": {},
   "outputs": [
    {
     "data": {
      "image/png": "[encoded data removed]",
      "text/plain": [
       "<Figure size 640x480 with 1 Axes>"
      ]
     },
     "metadata": {},
     "output_type": "display_data"
    }
   ],
   "source": [
    "plt.plot(t2,length_of_day)\n",
    "plt.xlabel(\"Age, in Years.[1 unit = 50 yrs]\")\n",
    "plt.ylabel(\"Length of Day in Seconds\")\n",
    "plt.title(\"Length of a Day at some Particular Years on Earth.\")\n",
    "plt.savefig(\"Q72.pdf\")"
   ]
  },
  {
   "cell_type": "code",
   "execution_count": null,
   "id": "16a38120",
   "metadata": {},
   "outputs": [],
   "source": []
  },
  {
   "cell_type": "markdown",
   "id": "e8be47e9",
   "metadata": {},
   "source": [
    "# Question 8"
   ]
  },
  {
   "cell_type": "code",
   "execution_count": 27,
   "id": "0c4886dc",
   "metadata": {},
   "outputs": [
    {
     "name": "stdout",
     "output_type": "stream",
     "text": [
      "Length of Day at the time of Moon Formation is 12375.482957295522 seconds\n"
     ]
    },
    {
     "data": {
      "text/plain": [
       "'\\nThe Result is Based on the Tidal Model Used in this Assignment.\\n'"
      ]
     },
     "execution_count": 27,
     "metadata": {},
     "output_type": "execute_result"
    }
   ],
   "source": [
    "#length of the day in seconds, at the time of moon formation. We are assuming, that moon formed just outside the Roche Radius.\n",
    "print(\"Length of Day at the time of Moon Formation is \" + str(length_of_day[32346196]) + \" seconds\")   \n",
    "\n",
    "\"\"\"\n",
    "The Result is Based on the Tidal Model Used in this Assignment.\n",
    "\"\"\""
   ]
  },
  {
   "cell_type": "markdown",
   "id": "b8496b56",
   "metadata": {},
   "source": [
    "# Question 9"
   ]
  },
  {
   "cell_type": "markdown",
   "id": "76f3d1f9",
   "metadata": {},
   "source": [
    "## Age of Moon: About 4.47 billion years old. Compared to The Tidal Model used in this Assignment, the Prediction by The Tidal Model is way off by almost 2.8 billion years.\n",
    "## Age of Earth: About 4.54 billion years old, plus or minus about 50 million years.\n",
    "\n",
    "## Source Links: \n",
    "### https://education.nationalgeographic.org/resource/resource-library-age-earth/\n",
    "### https://www.nationalgeographic.com/science/article/140402-moon-formation-earth-age-space-science"
   ]
  },
  {
   "cell_type": "markdown",
   "id": "72907f8b",
   "metadata": {},
   "source": [
    "# Question 10 Bonus Section"
   ]
  },
  {
   "cell_type": "markdown",
   "id": "ead4b873",
   "metadata": {},
   "source": [
    "# Estimation of the Age of Earth and Moon using the Tidal Model in the Assignment, is very off from the actual age.\n",
    "\n",
    "## The Possible Problem Could be the computation limit.\n",
    "\n",
    "## Even though arithmetic calculation using a computer seems very fast and accurate, it has limitation when it comes to computation, Especially with floating Point. So Probably, the orbital angular momentum as they approach zero are treated as actual zero, which affected the age Estimation of Earth and Moon.\n",
    "\n",
    "## Also, derivative of orbital angular momentum and the spin angular momentum of Earth, depend on the semi-major axis of the Moon. So, as soon as the semi-major axis of Moon goes to zero, any further data of Earth Collected using this model, becomes invalid too."
   ]
  },
  {
   "cell_type": "code",
   "execution_count": null,
   "id": "53e334a6",
   "metadata": {},
   "outputs": [],
   "source": []
  }
 ],
 "metadata": {
  "kernelspec": {
   "display_name": "Python 3 (ipykernel)",
   "language": "python",
   "name": "python3"
  },
  "language_info": {
   "codemirror_mode": {
    "name": "ipython",
    "version": 3
   },
   "file_extension": ".py",
   "mimetype": "text/x-python",
   "name": "python",
   "nbconvert_exporter": "python",
   "pygments_lexer": "ipython3",
   "version": "3.10.2"
  }
 },
 "nbformat": 4,
 "nbformat_minor": 5
}
